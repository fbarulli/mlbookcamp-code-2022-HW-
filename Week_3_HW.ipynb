{
  "nbformat": 4,
  "nbformat_minor": 0,
  "metadata": {
    "colab": {
      "provenance": [],
      "collapsed_sections": []
    },
    "kernelspec": {
      "name": "python3",
      "display_name": "Python 3"
    },
    "language_info": {
      "name": "python"
    }
  },
  "cells": [
    {
      "cell_type": "code",
      "source": [
        "#https://github.com/alexeygrigorev/mlbookcamp-code/blob/master/course-zoomcamp/cohorts/2021/03-classification/homework.ipynb"
      ],
      "metadata": {
        "id": "7JBA-snQSJFt"
      },
      "execution_count": null,
      "outputs": []
    },
    {
      "cell_type": "code",
      "execution_count": 7,
      "metadata": {
        "colab": {
          "base_uri": "https://localhost:8080/"
        },
        "id": "hnMvJl_6a93_",
        "outputId": "96d6e360-b94c-4290-b64b-35f909475965"
      },
      "outputs": [
        {
          "output_type": "stream",
          "name": "stdout",
          "text": [
            "--2022-09-24 17:02:09--  https://raw.githubusercontent.com/alexeygrigorev/datasets/master/housing.csv\n",
            "Resolving raw.githubusercontent.com (raw.githubusercontent.com)... 185.199.110.133, 185.199.111.133, 185.199.109.133, ...\n",
            "Connecting to raw.githubusercontent.com (raw.githubusercontent.com)|185.199.110.133|:443... connected.\n",
            "HTTP request sent, awaiting response... 200 OK\n",
            "Length: 1423529 (1.4M) [text/plain]\n",
            "Saving to: ‘housing.csv.2’\n",
            "\n",
            "\rhousing.csv.2         0%[                    ]       0  --.-KB/s               \rhousing.csv.2       100%[===================>]   1.36M  --.-KB/s    in 0.02s   \n",
            "\n",
            "2022-09-24 17:02:09 (84.7 MB/s) - ‘housing.csv.2’ saved [1423529/1423529]\n",
            "\n"
          ]
        }
      ],
      "source": [
        "import numpy as np # linear algebra\n",
        "import pandas as pd # data processing, CSV file I/O (e.g. pd.read_csv)\n",
        "from matplotlib import pyplot as plt\n",
        "%matplotlib inline\n",
        "import seaborn as sns\n",
        "from sklearn.utils import shuffle\n",
        "from sklearn.metrics import accuracy_score\n",
        "from sklearn.linear_model import LogisticRegression\n",
        "from sklearn.feature_extraction import DictVectorizer\n",
        "\n",
        "\n",
        "from sklearn.preprocessing import OneHotEncoder\n",
        "from sklearn.model_selection import train_test_split\n",
        "import seaborn as sns\n",
        "import os\n",
        "!wget https://raw.githubusercontent.com/alexeygrigorev/datasets/master/housing.csv\n",
        "\n",
        "\n",
        "usecols = ['latitude',\n",
        "'longitude',\n",
        "'housing_median_age',\n",
        "'total_rooms',\n",
        "'total_bedrooms',\n",
        "'population',\n",
        "'households',\n",
        "'median_income',\n",
        "'median_house_value',\n",
        "'ocean_proximity']\n",
        "\n",
        "df_original = os.listdir()[1]\n",
        "df_original = pd.read_csv(df_original, usecols=usecols)\n",
        "df = df_original.copy()\n",
        "#df = shuffle(df, random_state=42)\n",
        "df = df.fillna(0)\n",
        "df.reset_index(inplace=True) \n",
        "\n"
      ]
    },
    {
      "cell_type": "code",
      "source": [
        "df"
      ],
      "metadata": {
        "colab": {
          "base_uri": "https://localhost:8080/",
          "height": 488
        },
        "id": "2k68dJmo2pfn",
        "outputId": "48ea0157-a4f3-41af-d2e9-180f422ccc29"
      },
      "execution_count": 2,
      "outputs": [
        {
          "output_type": "execute_result",
          "data": {
            "text/plain": [
              "       index  longitude  latitude  housing_median_age  total_rooms  \\\n",
              "0          0    -122.23     37.88                41.0        880.0   \n",
              "1          1    -122.22     37.86                21.0       7099.0   \n",
              "2          2    -122.24     37.85                52.0       1467.0   \n",
              "3          3    -122.25     37.85                52.0       1274.0   \n",
              "4          4    -122.25     37.85                52.0       1627.0   \n",
              "...      ...        ...       ...                 ...          ...   \n",
              "20635  20635    -121.09     39.48                25.0       1665.0   \n",
              "20636  20636    -121.21     39.49                18.0        697.0   \n",
              "20637  20637    -121.22     39.43                17.0       2254.0   \n",
              "20638  20638    -121.32     39.43                18.0       1860.0   \n",
              "20639  20639    -121.24     39.37                16.0       2785.0   \n",
              "\n",
              "       total_bedrooms  population  households  median_income  \\\n",
              "0               129.0       322.0       126.0         8.3252   \n",
              "1              1106.0      2401.0      1138.0         8.3014   \n",
              "2               190.0       496.0       177.0         7.2574   \n",
              "3               235.0       558.0       219.0         5.6431   \n",
              "4               280.0       565.0       259.0         3.8462   \n",
              "...               ...         ...         ...            ...   \n",
              "20635           374.0       845.0       330.0         1.5603   \n",
              "20636           150.0       356.0       114.0         2.5568   \n",
              "20637           485.0      1007.0       433.0         1.7000   \n",
              "20638           409.0       741.0       349.0         1.8672   \n",
              "20639           616.0      1387.0       530.0         2.3886   \n",
              "\n",
              "       median_house_value ocean_proximity  \n",
              "0                452600.0        NEAR BAY  \n",
              "1                358500.0        NEAR BAY  \n",
              "2                352100.0        NEAR BAY  \n",
              "3                341300.0        NEAR BAY  \n",
              "4                342200.0        NEAR BAY  \n",
              "...                   ...             ...  \n",
              "20635             78100.0          INLAND  \n",
              "20636             77100.0          INLAND  \n",
              "20637             92300.0          INLAND  \n",
              "20638             84700.0          INLAND  \n",
              "20639             89400.0          INLAND  \n",
              "\n",
              "[20640 rows x 11 columns]"
            ],
            "text/html": [
              "\n",
              "  <div id=\"df-8f791b7b-f3a2-4125-9b51-e17ea6633397\">\n",
              "    <div class=\"colab-df-container\">\n",
              "      <div>\n",
              "<style scoped>\n",
              "    .dataframe tbody tr th:only-of-type {\n",
              "        vertical-align: middle;\n",
              "    }\n",
              "\n",
              "    .dataframe tbody tr th {\n",
              "        vertical-align: top;\n",
              "    }\n",
              "\n",
              "    .dataframe thead th {\n",
              "        text-align: right;\n",
              "    }\n",
              "</style>\n",
              "<table border=\"1\" class=\"dataframe\">\n",
              "  <thead>\n",
              "    <tr style=\"text-align: right;\">\n",
              "      <th></th>\n",
              "      <th>index</th>\n",
              "      <th>longitude</th>\n",
              "      <th>latitude</th>\n",
              "      <th>housing_median_age</th>\n",
              "      <th>total_rooms</th>\n",
              "      <th>total_bedrooms</th>\n",
              "      <th>population</th>\n",
              "      <th>households</th>\n",
              "      <th>median_income</th>\n",
              "      <th>median_house_value</th>\n",
              "      <th>ocean_proximity</th>\n",
              "    </tr>\n",
              "  </thead>\n",
              "  <tbody>\n",
              "    <tr>\n",
              "      <th>0</th>\n",
              "      <td>0</td>\n",
              "      <td>-122.23</td>\n",
              "      <td>37.88</td>\n",
              "      <td>41.0</td>\n",
              "      <td>880.0</td>\n",
              "      <td>129.0</td>\n",
              "      <td>322.0</td>\n",
              "      <td>126.0</td>\n",
              "      <td>8.3252</td>\n",
              "      <td>452600.0</td>\n",
              "      <td>NEAR BAY</td>\n",
              "    </tr>\n",
              "    <tr>\n",
              "      <th>1</th>\n",
              "      <td>1</td>\n",
              "      <td>-122.22</td>\n",
              "      <td>37.86</td>\n",
              "      <td>21.0</td>\n",
              "      <td>7099.0</td>\n",
              "      <td>1106.0</td>\n",
              "      <td>2401.0</td>\n",
              "      <td>1138.0</td>\n",
              "      <td>8.3014</td>\n",
              "      <td>358500.0</td>\n",
              "      <td>NEAR BAY</td>\n",
              "    </tr>\n",
              "    <tr>\n",
              "      <th>2</th>\n",
              "      <td>2</td>\n",
              "      <td>-122.24</td>\n",
              "      <td>37.85</td>\n",
              "      <td>52.0</td>\n",
              "      <td>1467.0</td>\n",
              "      <td>190.0</td>\n",
              "      <td>496.0</td>\n",
              "      <td>177.0</td>\n",
              "      <td>7.2574</td>\n",
              "      <td>352100.0</td>\n",
              "      <td>NEAR BAY</td>\n",
              "    </tr>\n",
              "    <tr>\n",
              "      <th>3</th>\n",
              "      <td>3</td>\n",
              "      <td>-122.25</td>\n",
              "      <td>37.85</td>\n",
              "      <td>52.0</td>\n",
              "      <td>1274.0</td>\n",
              "      <td>235.0</td>\n",
              "      <td>558.0</td>\n",
              "      <td>219.0</td>\n",
              "      <td>5.6431</td>\n",
              "      <td>341300.0</td>\n",
              "      <td>NEAR BAY</td>\n",
              "    </tr>\n",
              "    <tr>\n",
              "      <th>4</th>\n",
              "      <td>4</td>\n",
              "      <td>-122.25</td>\n",
              "      <td>37.85</td>\n",
              "      <td>52.0</td>\n",
              "      <td>1627.0</td>\n",
              "      <td>280.0</td>\n",
              "      <td>565.0</td>\n",
              "      <td>259.0</td>\n",
              "      <td>3.8462</td>\n",
              "      <td>342200.0</td>\n",
              "      <td>NEAR BAY</td>\n",
              "    </tr>\n",
              "    <tr>\n",
              "      <th>...</th>\n",
              "      <td>...</td>\n",
              "      <td>...</td>\n",
              "      <td>...</td>\n",
              "      <td>...</td>\n",
              "      <td>...</td>\n",
              "      <td>...</td>\n",
              "      <td>...</td>\n",
              "      <td>...</td>\n",
              "      <td>...</td>\n",
              "      <td>...</td>\n",
              "      <td>...</td>\n",
              "    </tr>\n",
              "    <tr>\n",
              "      <th>20635</th>\n",
              "      <td>20635</td>\n",
              "      <td>-121.09</td>\n",
              "      <td>39.48</td>\n",
              "      <td>25.0</td>\n",
              "      <td>1665.0</td>\n",
              "      <td>374.0</td>\n",
              "      <td>845.0</td>\n",
              "      <td>330.0</td>\n",
              "      <td>1.5603</td>\n",
              "      <td>78100.0</td>\n",
              "      <td>INLAND</td>\n",
              "    </tr>\n",
              "    <tr>\n",
              "      <th>20636</th>\n",
              "      <td>20636</td>\n",
              "      <td>-121.21</td>\n",
              "      <td>39.49</td>\n",
              "      <td>18.0</td>\n",
              "      <td>697.0</td>\n",
              "      <td>150.0</td>\n",
              "      <td>356.0</td>\n",
              "      <td>114.0</td>\n",
              "      <td>2.5568</td>\n",
              "      <td>77100.0</td>\n",
              "      <td>INLAND</td>\n",
              "    </tr>\n",
              "    <tr>\n",
              "      <th>20637</th>\n",
              "      <td>20637</td>\n",
              "      <td>-121.22</td>\n",
              "      <td>39.43</td>\n",
              "      <td>17.0</td>\n",
              "      <td>2254.0</td>\n",
              "      <td>485.0</td>\n",
              "      <td>1007.0</td>\n",
              "      <td>433.0</td>\n",
              "      <td>1.7000</td>\n",
              "      <td>92300.0</td>\n",
              "      <td>INLAND</td>\n",
              "    </tr>\n",
              "    <tr>\n",
              "      <th>20638</th>\n",
              "      <td>20638</td>\n",
              "      <td>-121.32</td>\n",
              "      <td>39.43</td>\n",
              "      <td>18.0</td>\n",
              "      <td>1860.0</td>\n",
              "      <td>409.0</td>\n",
              "      <td>741.0</td>\n",
              "      <td>349.0</td>\n",
              "      <td>1.8672</td>\n",
              "      <td>84700.0</td>\n",
              "      <td>INLAND</td>\n",
              "    </tr>\n",
              "    <tr>\n",
              "      <th>20639</th>\n",
              "      <td>20639</td>\n",
              "      <td>-121.24</td>\n",
              "      <td>39.37</td>\n",
              "      <td>16.0</td>\n",
              "      <td>2785.0</td>\n",
              "      <td>616.0</td>\n",
              "      <td>1387.0</td>\n",
              "      <td>530.0</td>\n",
              "      <td>2.3886</td>\n",
              "      <td>89400.0</td>\n",
              "      <td>INLAND</td>\n",
              "    </tr>\n",
              "  </tbody>\n",
              "</table>\n",
              "<p>20640 rows × 11 columns</p>\n",
              "</div>\n",
              "      <button class=\"colab-df-convert\" onclick=\"convertToInteractive('df-8f791b7b-f3a2-4125-9b51-e17ea6633397')\"\n",
              "              title=\"Convert this dataframe to an interactive table.\"\n",
              "              style=\"display:none;\">\n",
              "        \n",
              "  <svg xmlns=\"http://www.w3.org/2000/svg\" height=\"24px\"viewBox=\"0 0 24 24\"\n",
              "       width=\"24px\">\n",
              "    <path d=\"M0 0h24v24H0V0z\" fill=\"none\"/>\n",
              "    <path d=\"M18.56 5.44l.94 2.06.94-2.06 2.06-.94-2.06-.94-.94-2.06-.94 2.06-2.06.94zm-11 1L8.5 8.5l.94-2.06 2.06-.94-2.06-.94L8.5 2.5l-.94 2.06-2.06.94zm10 10l.94 2.06.94-2.06 2.06-.94-2.06-.94-.94-2.06-.94 2.06-2.06.94z\"/><path d=\"M17.41 7.96l-1.37-1.37c-.4-.4-.92-.59-1.43-.59-.52 0-1.04.2-1.43.59L10.3 9.45l-7.72 7.72c-.78.78-.78 2.05 0 2.83L4 21.41c.39.39.9.59 1.41.59.51 0 1.02-.2 1.41-.59l7.78-7.78 2.81-2.81c.8-.78.8-2.07 0-2.86zM5.41 20L4 18.59l7.72-7.72 1.47 1.35L5.41 20z\"/>\n",
              "  </svg>\n",
              "      </button>\n",
              "      \n",
              "  <style>\n",
              "    .colab-df-container {\n",
              "      display:flex;\n",
              "      flex-wrap:wrap;\n",
              "      gap: 12px;\n",
              "    }\n",
              "\n",
              "    .colab-df-convert {\n",
              "      background-color: #E8F0FE;\n",
              "      border: none;\n",
              "      border-radius: 50%;\n",
              "      cursor: pointer;\n",
              "      display: none;\n",
              "      fill: #1967D2;\n",
              "      height: 32px;\n",
              "      padding: 0 0 0 0;\n",
              "      width: 32px;\n",
              "    }\n",
              "\n",
              "    .colab-df-convert:hover {\n",
              "      background-color: #E2EBFA;\n",
              "      box-shadow: 0px 1px 2px rgba(60, 64, 67, 0.3), 0px 1px 3px 1px rgba(60, 64, 67, 0.15);\n",
              "      fill: #174EA6;\n",
              "    }\n",
              "\n",
              "    [theme=dark] .colab-df-convert {\n",
              "      background-color: #3B4455;\n",
              "      fill: #D2E3FC;\n",
              "    }\n",
              "\n",
              "    [theme=dark] .colab-df-convert:hover {\n",
              "      background-color: #434B5C;\n",
              "      box-shadow: 0px 1px 3px 1px rgba(0, 0, 0, 0.15);\n",
              "      filter: drop-shadow(0px 1px 2px rgba(0, 0, 0, 0.3));\n",
              "      fill: #FFFFFF;\n",
              "    }\n",
              "  </style>\n",
              "\n",
              "      <script>\n",
              "        const buttonEl =\n",
              "          document.querySelector('#df-8f791b7b-f3a2-4125-9b51-e17ea6633397 button.colab-df-convert');\n",
              "        buttonEl.style.display =\n",
              "          google.colab.kernel.accessAllowed ? 'block' : 'none';\n",
              "\n",
              "        async function convertToInteractive(key) {\n",
              "          const element = document.querySelector('#df-8f791b7b-f3a2-4125-9b51-e17ea6633397');\n",
              "          const dataTable =\n",
              "            await google.colab.kernel.invokeFunction('convertToInteractive',\n",
              "                                                     [key], {});\n",
              "          if (!dataTable) return;\n",
              "\n",
              "          const docLinkHtml = 'Like what you see? Visit the ' +\n",
              "            '<a target=\"_blank\" href=https://colab.research.google.com/notebooks/data_table.ipynb>data table notebook</a>'\n",
              "            + ' to learn more about interactive tables.';\n",
              "          element.innerHTML = '';\n",
              "          dataTable['output_type'] = 'display_data';\n",
              "          await google.colab.output.renderOutput(dataTable, element);\n",
              "          const docLink = document.createElement('div');\n",
              "          docLink.innerHTML = docLinkHtml;\n",
              "          element.appendChild(docLink);\n",
              "        }\n",
              "      </script>\n",
              "    </div>\n",
              "  </div>\n",
              "  "
            ]
          },
          "metadata": {},
          "execution_count": 2
        }
      ]
    },
    {
      "cell_type": "code",
      "source": [
        "'''\n",
        "-Select only the features from above and fill in the missing values with 0.\n",
        "\n",
        "\n",
        "-Create a new column rooms_per_household by dividing the column total_rooms by the column households from dataframe.\n",
        "df['rooms_per_household'] = df['total_rooms']/ df['households']\n",
        "\n",
        "-Create a new column bedrooms_per_room by dividing the column total_bedrooms by the column total_rooms from dataframe.\n",
        "df['bedrooms_per_room'] = df['total_bedrooms']/ df['total_rooms']\n",
        "\n",
        "-Create a new column population_per_household by dividing the column population by the column households from dataframe.\n",
        "df['population_per_household'] = df['population']/ df['households']\n",
        "\n",
        "\n",
        "\n",
        "'''"
      ],
      "metadata": {
        "colab": {
          "base_uri": "https://localhost:8080/",
          "height": 105
        },
        "id": "hS_ESGbEcHoJ",
        "outputId": "6bf0f224-a215-4c49-c6d2-dd8b29b4f600"
      },
      "execution_count": null,
      "outputs": [
        {
          "output_type": "execute_result",
          "data": {
            "text/plain": [
              "\"\\n-Select only the features from above and fill in the missing values with 0.\\n\\n\\n-Create a new column rooms_per_household by dividing the column total_rooms by the column households from dataframe.\\ndf['rooms_per_household'] = df['total_rooms']/ df['households']\\n\\n-Create a new column bedrooms_per_room by dividing the column total_bedrooms by the column total_rooms from dataframe.\\ndf['bedrooms_per_room'] = df['total_bedrooms']/ df['total_rooms']\\n\\n-Create a new column population_per_household by dividing the column population by the column households from dataframe.\\ndf['population_per_household'] = df['population']/ df['households']\\n\\n\\n\\n\""
            ],
            "application/vnd.google.colaboratory.intrinsic+json": {
              "type": "string"
            }
          },
          "metadata": {},
          "execution_count": 6
        }
      ]
    },
    {
      "cell_type": "code",
      "source": [
        "# ALL the preprocessing\n",
        "#df = df.copy()\n",
        "\n",
        "#Data preparation\n",
        "df['rooms_per_household'] = df['total_rooms']/ df['households']\n",
        "df['bedrooms_per_room'] = df['total_bedrooms']/ df['total_rooms']\n",
        "df['population_per_household'] = df['population']/ df['households']\n",
        "\n",
        "#median_house_value\n",
        "mean = df['median_house_value'].mean()\n",
        "df['above_average'] = np.where(df['median_house_value'] >= mean, 1,0)\n",
        "\n",
        "onehotencoder = OneHotEncoder()\n",
        "\n",
        "X = onehotencoder.fit_transform(df.ocean_proximity.values.reshape(-1,1)).toarray()\n",
        "#To add this back into the original dataframe \n",
        "dfOneHot = pd.DataFrame(X, columns = [\"proximity\"+str(int(i)) for i in range(len(df.ocean_proximity.unique()))])\n",
        "df = pd.concat([df, dfOneHot], axis=1)\n",
        "\n",
        "\n",
        "\n",
        "\n",
        "\n",
        "\n",
        "\n",
        "\n",
        "\n",
        "# train test split\n",
        "from sklearn.metrics import mutual_info_score\n",
        "#mutual_information_df = mutual_information_df.drop('median_house_value', axis=1)\n",
        "\n",
        "x_train, x_test, y_train, y_test = train_test_split(df.loc[:, ~df.columns.isin(['median_house_value', 'ocean_proximity', \"above_average\"])], \n",
        "                                                          df.above_average.values, \n",
        "                                                          test_size= .20,\n",
        "                                                          random_state=42)\n",
        "                                                          \n",
        "x_train, x_val, y_train, y_val = train_test_split(x_train, y_train, test_size=0.25, random_state=42)\n"
      ],
      "metadata": {
        "id": "tYe09uC-fivt"
      },
      "execution_count": 8,
      "outputs": []
    },
    {
      "cell_type": "code",
      "source": [],
      "metadata": {
        "id": "ALEyj0uidzy7"
      },
      "execution_count": null,
      "outputs": []
    },
    {
      "cell_type": "code",
      "source": [
        "#             Q1              What is the most frequent observation (mode) for the column ocean_proximity?"
      ],
      "metadata": {
        "id": "mJ1BT9HlcHqh"
      },
      "execution_count": null,
      "outputs": []
    },
    {
      "cell_type": "code",
      "source": [
        "########################################               QUESTION 2              ########################################"
      ],
      "metadata": {
        "id": "HT4uPqdAh4ly"
      },
      "execution_count": null,
      "outputs": []
    },
    {
      "cell_type": "code",
      "source": [
        "'''\n",
        "Question 2\n",
        "Create the correlation matrix for the numerical features of your train dataset.\n",
        "In a correlation matrix, you compute the correlation coefficient between every pair of features in the dataset.\n",
        "What are the two features that have the biggest correlation in this dataset?\n",
        "\n",
        "\n",
        "'''"
      ],
      "metadata": {
        "id": "kH0nimNlgqmH"
      },
      "execution_count": null,
      "outputs": []
    },
    {
      "cell_type": "code",
      "source": [
        "plt.figure(figsize=(15,10))  \n",
        "sns.heatmap(df.corr(),annot=True,linewidths=.5, cmap=\"Blues\")\n",
        "plt.title('Heatmap showing correlations between numerical data')\n",
        "plt.show()\n"
      ],
      "metadata": {
        "colab": {
          "base_uri": "https://localhost:8080/",
          "height": 729
        },
        "id": "219CraOfgqqm",
        "outputId": "fc3cce72-4a74-4785-9859-fbb6da231be7"
      },
      "execution_count": null,
      "outputs": [
        {
          "output_type": "display_data",
          "data": {
            "text/plain": [
              "<Figure size 1080x720 with 2 Axes>"
            ],
            "image/png": "[encoded data removed]"
          },
          "metadata": {
            "needs_background": "light"
          }
        }
      ]
    },
    {
      "cell_type": "code",
      "source": [
        "\n",
        "df.corr().unstack().sort_values(ascending = False).drop_duplicates()\n"
      ],
      "metadata": {
        "colab": {
          "base_uri": "https://localhost:8080/"
        },
        "id": "tz0RmCvogqsa",
        "outputId": "378410b2-dcae-4fa3-bd87-343d112384d6"
      },
      "execution_count": null,
      "outputs": [
        {
          "output_type": "execute_result",
          "data": {
            "text/plain": [
              "longitude            longitude            1.000000\n",
              "total_bedrooms       households           0.966507\n",
              "total_rooms          total_bedrooms       0.920196\n",
              "                     households           0.918484\n",
              "population           households           0.907222\n",
              "                                            ...   \n",
              "housing_median_age   total_bedrooms      -0.317063\n",
              "                     total_rooms         -0.361262\n",
              "rooms_per_household  bedrooms_per_room   -0.387465\n",
              "bedrooms_per_room    median_income       -0.573836\n",
              "longitude            latitude            -0.924664\n",
              "Length: 67, dtype: float64"
            ]
          },
          "metadata": {},
          "execution_count": 6
        }
      ]
    },
    {
      "cell_type": "code",
      "source": [
        "########################################               QUESTION 3              ########################################"
      ],
      "metadata": {
        "id": "FCMV7L9Sgqvl"
      },
      "execution_count": null,
      "outputs": []
    },
    {
      "cell_type": "code",
      "source": [
        "mutual_information_df = df.copy()\n",
        "mean = mutual_information_df['median_house_value'].mean()\n",
        "#np.where(median_df['median_house_value'] >= mean, 1,0)\n",
        "mutual_information_df['above_average'] = np.where(mutual_information_df['median_house_value'] >= mean, 1,0)\n",
        "\n",
        "\n",
        "from sklearn.metrics import mutual_info_score\n",
        "#mutual_information_df = mutual_information_df.drop('median_house_value', axis=1)\n",
        "\n",
        "\n",
        "df_mi = mutual_info_score(df_train.above_average, df_train.ocean_proximity)\n",
        "round(df_mi, 2)\n"
      ],
      "metadata": {
        "colab": {
          "base_uri": "https://localhost:8080/"
        },
        "id": "vSMFBEtjgqxd",
        "outputId": "bc1686ce-2ae1-429c-886d-0b1398856e5d"
      },
      "execution_count": 6,
      "outputs": [
        {
          "output_type": "execute_result",
          "data": {
            "text/plain": [
              "0.1"
            ]
          },
          "metadata": {},
          "execution_count": 6
        }
      ]
    },
    {
      "cell_type": "code",
      "source": [
        "########################################               QUESTION 4              ########################################"
      ],
      "metadata": {
        "id": "4AXrgerqUkqj"
      },
      "execution_count": null,
      "outputs": []
    },
    {
      "cell_type": "code",
      "source": [
        "'''\n",
        "\n",
        "Question 4\n",
        "Now let's train a logistic regression\n",
        "Remember that we have one categorical variable ocean_proximity in the data. Include it using one-hot encoding.\n",
        "Fit the model on the training dataset.\n",
        "To make sure the results are reproducible across different versions of Scikit-Learn, fit the model with these parameters:\n",
        "model = LogisticRegression(solver=\"liblinear\", C=1.0, max_iter=1000, random_state=42)\n",
        "Calculate the accuracy on the validation dataset and round it to 2 decimal digits.\n",
        "\n",
        "\n",
        "\n",
        "\n",
        "'''"
      ],
      "metadata": {
        "id": "RGjeLH7IUdgq"
      },
      "execution_count": null,
      "outputs": []
    },
    {
      "cell_type": "code",
      "source": [
        "\n",
        "from sklearn.linear_model import LogisticRegression\n",
        "\n",
        "model = LogisticRegression(solver=\"liblinear\", C=1.0, max_iter=1000, random_state=42)\n",
        "model.fit(x_train, y_train)\n",
        "y_pred = model.predict(x_val)\n",
        "accuracy = np.round(accuracy_score(y_val, y_pred),2)\n",
        "accuracy"
      ],
      "metadata": {
        "colab": {
          "base_uri": "https://localhost:8080/"
        },
        "id": "pkfgTOFLUk3C",
        "outputId": "16269419-99e3-4fbb-9c92-56d407be8f02"
      },
      "execution_count": 9,
      "outputs": [
        {
          "output_type": "execute_result",
          "data": {
            "text/plain": [
              "0.84"
            ]
          },
          "metadata": {},
          "execution_count": 9
        }
      ]
    },
    {
      "cell_type": "code",
      "source": [
        "#                   Q5\n",
        "\n",
        "\n",
        "'total_rooms',\n",
        "'total_bedrooms',\n",
        "'population',\n",
        "'households',"
      ],
      "metadata": {
        "id": "ksndtBC9cH17"
      },
      "execution_count": null,
      "outputs": []
    },
    {
      "cell_type": "code",
      "source": [
        "features = ['total_rooms','total_bedrooms','population','households',]\n",
        "features_ = features.copy()\n",
        "\n"
      ],
      "metadata": {
        "id": "iHy4QjVLd3Jk"
      },
      "execution_count": 31,
      "outputs": []
    },
    {
      "cell_type": "code",
      "source": [
        "orig_score = accuracy\n",
        "\n",
        "\n",
        "for c in features:\n",
        "    orig_s = []\n",
        "    score_ = []\n",
        "    used = []\n",
        "    used.append(c)\n",
        "\n",
        "    subset = features.copy()\n",
        "    subset.remove(c)\n",
        "    \n",
        "    train_dict = x_train[subset].to_dict(orient='records')\n",
        "\n",
        "    dv = DictVectorizer(sparse=False)\n",
        "    dv.fit(train_dict)\n",
        "\n",
        "    X_train = dv.transform(train_dict)\n",
        "\n",
        "    model = LogisticRegression(solver='lbfgs', C=1.0, random_state=42,max_iter=1000)\n",
        "    model.fit(X_train, y_train)\n",
        "\n",
        "    val_dict = x_val[subset].to_dict(orient='records')\n",
        "    X_val = dv.transform(val_dict)\n",
        "\n",
        "    y_pred = model.predict(X_val)\n",
        "\n",
        "    score = accuracy_score(y_val, y_pred)\n",
        "    score_.append(score)\n",
        "\n",
        "    print(c, orig_score - score, score)"
      ],
      "metadata": {
        "id": "-CewWw8BcH_b",
        "colab": {
          "base_uri": "https://localhost:8080/"
        },
        "outputId": "1bc30af9-f9af-401b-87ce-bcbec4a62c83"
      },
      "execution_count": 32,
      "outputs": [
        {
          "output_type": "stream",
          "name": "stdout",
          "text": [
            "total_rooms 0.21209302325581392 0.627906976744186\n",
            "total_bedrooms 0.17914728682170544 0.6608527131782945\n",
            "population 0.18399224806201542 0.6560077519379846\n",
            "households 0.16848837209302325 0.6715116279069767\n"
          ]
        }
      ]
    },
    {
      "cell_type": "code",
      "source": [
        "print(used)"
      ],
      "metadata": {
        "id": "sQNdLoDocIB6",
        "colab": {
          "base_uri": "https://localhost:8080/"
        },
        "outputId": "715596be-eb55-4863-dc56-5264dbf250d8"
      },
      "execution_count": 30,
      "outputs": [
        {
          "output_type": "stream",
          "name": "stdout",
          "text": [
            "['proximity4']\n"
          ]
        }
      ]
    },
    {
      "cell_type": "code",
      "source": [
        "#                  Q6"
      ],
      "metadata": {
        "id": "dtlzBRJ1cIEa"
      },
      "execution_count": null,
      "outputs": []
    },
    {
      "cell_type": "code",
      "source": [],
      "metadata": {
        "id": "dAaeHDqfdBcI"
      },
      "execution_count": null,
      "outputs": []
    },
    {
      "cell_type": "code",
      "source": [
        "from sklearn.feature_extraction import DictVectorizer\n",
        "dv = DictVectorizer(sparse=False)\n",
        "\n",
        "train_dict = x_train.to_dict(orient='records')\n",
        "X_train = dv.fit_transform(train_dict)\n",
        "\n",
        "val_dict = x_val.to_dict(orient='records')\n",
        "X_val = dv.transform(val_dict)\n",
        "\n"
      ],
      "metadata": {
        "id": "9WnO1hafDlIn"
      },
      "execution_count": 33,
      "outputs": []
    },
    {
      "cell_type": "code",
      "source": [
        "from sklearn.linear_model import Ridge\n",
        "from sklearn.metrics import mean_squared_error"
      ],
      "metadata": {
        "id": "nJA5AIORdBew"
      },
      "execution_count": 34,
      "outputs": []
    },
    {
      "cell_type": "code",
      "source": [
        "for a in [0, 0.01, 0.1, 1, 10]:\n",
        "    model = Ridge(alpha=a, solver=\"sag\", random_state=42)\n",
        "    model.fit(X_train, y_train)\n",
        "    \n",
        "    y_pred = model.predict(X_val)\n",
        "    \n",
        "    score = np.sqrt(mean_squared_error(y_val, y_pred))\n",
        "    \n",
        "    print(a, round(score, 3))"
      ],
      "metadata": {
        "colab": {
          "base_uri": "https://localhost:8080/"
        },
        "id": "D-BGXvkydBhS",
        "outputId": "2fe88897-aaa5-427c-ba43-4393671c9a10"
      },
      "execution_count": 36,
      "outputs": [
        {
          "output_type": "stream",
          "name": "stdout",
          "text": [
            "0 0.453\n",
            "0.01 0.453\n",
            "0.1 0.453\n",
            "1 0.453\n",
            "10 0.453\n"
          ]
        }
      ]
    },
    {
      "cell_type": "code",
      "source": [],
      "metadata": {
        "id": "biRp49gFdBj7"
      },
      "execution_count": null,
      "outputs": []
    },
    {
      "cell_type": "code",
      "source": [],
      "metadata": {
        "id": "BYA1cAt9dBmS"
      },
      "execution_count": null,
      "outputs": []
    },
    {
      "cell_type": "code",
      "source": [],
      "metadata": {
        "id": "GeafMN_LdBo8"
      },
      "execution_count": null,
      "outputs": []
    },
    {
      "cell_type": "code",
      "source": [],
      "metadata": {
        "id": "U7GDpSeudBrm"
      },
      "execution_count": null,
      "outputs": []
    },
    {
      "cell_type": "code",
      "source": [],
      "metadata": {
        "id": "Q04SEVOYdBuC"
      },
      "execution_count": null,
      "outputs": []
    },
    {
      "cell_type": "code",
      "source": [],
      "metadata": {
        "id": "JRhPqZ_-dBwe"
      },
      "execution_count": null,
      "outputs": []
    }
  ]
}
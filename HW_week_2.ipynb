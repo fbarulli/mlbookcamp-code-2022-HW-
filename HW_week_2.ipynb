{
  "metadata": {
    "kernelspec": {
      "language": "python",
      "display_name": "Python 3",
      "name": "python3"
    },
    "language_info": {
      "name": "python",
      "version": "3.7.12",
      "mimetype": "text/x-python",
      "codemirror_mode": {
        "name": "ipython",
        "version": 3
      },
      "pygments_lexer": "ipython3",
      "nbconvert_exporter": "python",
      "file_extension": ".py"
    },
    "colab": {
      "provenance": []
    }
  },
  "nbformat_minor": 0,
  "nbformat": 4,
  "cells": [
    {
      "cell_type": "code",
      "source": [
        "import numpy as np # linear algebra\n",
        "import pandas as pd # data processing, CSV file I/O (e.g. pd.read_csv)\n",
        "from matplotlib import pyplot as plt\n",
        "%matplotlib inline\n",
        "import seaborn as sns\n",
        "from sklearn.utils import shuffle\n",
        "from sklearn.model_selection import train_test_split\n",
        "import seaborn as sns\n",
        "import os\n",
        "!wget https://raw.githubusercontent.com/alexeygrigorev/datasets/master/housing.csv"
      ],
      "metadata": {
        "_uuid": "8f2839f25d086af736a60e9eeb907d3b93b6e0e5",
        "_cell_guid": "b1076dfc-b9ad-4769-8c92-a6c4dae69d19",
        "execution": {
          "iopub.status.busy": "2022-09-16T07:37:07.399501Z",
          "iopub.execute_input": "2022-09-16T07:37:07.399914Z",
          "iopub.status.idle": "2022-09-16T07:37:07.413777Z",
          "shell.execute_reply.started": "2022-09-16T07:37:07.399881Z",
          "shell.execute_reply": "2022-09-16T07:37:07.412628Z"
        },
        "trusted": true,
        "colab": {
          "base_uri": "https://localhost:8080/"
        },
        "id": "q4-m8j5ciucX",
        "outputId": "5a7cb9b0-bb1d-4649-8f0e-282d425c12c2"
      },
      "execution_count": 1,
      "outputs": [
        {
          "output_type": "stream",
          "name": "stdout",
          "text": [
            "--2022-09-18 13:31:33--  https://raw.githubusercontent.com/alexeygrigorev/datasets/master/housing.csv\n",
            "Resolving raw.githubusercontent.com (raw.githubusercontent.com)... 185.199.108.133, 185.199.109.133, 185.199.110.133, ...\n",
            "Connecting to raw.githubusercontent.com (raw.githubusercontent.com)|185.199.108.133|:443... connected.\n",
            "HTTP request sent, awaiting response... 200 OK\n",
            "Length: 1423529 (1.4M) [text/plain]\n",
            "Saving to: ‘housing.csv.1’\n",
            "\n",
            "\rhousing.csv.1         0%[                    ]       0  --.-KB/s               \rhousing.csv.1       100%[===================>]   1.36M  --.-KB/s    in 0.07s   \n",
            "\n",
            "2022-09-18 13:31:33 (19.7 MB/s) - ‘housing.csv.1’ saved [1423529/1423529]\n",
            "\n"
          ]
        }
      ]
    },
    {
      "cell_type": "code",
      "source": [
        "df_copy= df.copy()\n",
        "\n",
        "df = os.listdir()[1]\n",
        "df = pd.read_csv(df)\n",
        "df.drop(['ocean_proximity'], axis=1, inplace=True)\n",
        "df = shuffle(df)\n",
        "df.reset_index(inplace=True, drop=True) \n"
      ],
      "metadata": {
        "id": "-u0E4BN-jCjg"
      },
      "execution_count": 33,
      "outputs": []
    },
    {
      "cell_type": "code",
      "source": [
        "'''Question 1\n",
        "Find a feature with missing values. How many missing values does it have?\n",
        "\n",
        "'''\n",
        "'''\n",
        "Question 2\n",
        "What's the median (50% percentile) for variable 'population'?\n",
        "\n",
        "'''"
      ],
      "metadata": {
        "execution": {
          "iopub.status.busy": "2022-09-14T14:32:10.797262Z",
          "iopub.execute_input": "2022-09-14T14:32:10.799932Z",
          "iopub.status.idle": "2022-09-14T14:32:10.808124Z",
          "shell.execute_reply.started": "2022-09-14T14:32:10.799890Z",
          "shell.execute_reply": "2022-09-14T14:32:10.806865Z"
        },
        "trusted": true,
        "colab": {
          "base_uri": "https://localhost:8080/",
          "height": 35
        },
        "id": "pE-YBXXHiucZ",
        "outputId": "6bce7f77-c460-4b0f-8e2f-2809a8f61ca7"
      },
      "execution_count": 3,
      "outputs": [
        {
          "output_type": "execute_result",
          "data": {
            "text/plain": [
              "\"\\nQuestion 2\\nWhat's the median (50% percentile) for variable 'population'?\\n\\n\""
            ],
            "application/vnd.google.colaboratory.intrinsic+json": {
              "type": "string"
            }
          },
          "metadata": {},
          "execution_count": 3
        }
      ]
    },
    {
      "cell_type": "code",
      "source": [
        "#Split the data"
      ],
      "metadata": {
        "id": "gLeEN_B0iucb"
      },
      "execution_count": 4,
      "outputs": []
    },
    {
      "cell_type": "code",
      "source": [
        "df.isnull().sum()"
      ],
      "metadata": {
        "colab": {
          "base_uri": "https://localhost:8080/"
        },
        "id": "nzec0bRQiucf",
        "outputId": "0b349469-f334-42f0-8e68-eb582c28eadd"
      },
      "execution_count": 5,
      "outputs": [
        {
          "output_type": "execute_result",
          "data": {
            "text/plain": [
              "longitude               0\n",
              "latitude                0\n",
              "housing_median_age      0\n",
              "total_rooms             0\n",
              "total_bedrooms        207\n",
              "population              0\n",
              "households              0\n",
              "median_income           0\n",
              "median_house_value      0\n",
              "dtype: int64"
            ]
          },
          "metadata": {},
          "execution_count": 5
        }
      ]
    },
    {
      "cell_type": "code",
      "source": [
        "n = len(df)\n",
        "n_val = int(n*0.2)\n",
        "n_test = int(n*0.2)\n",
        "n_train = n - n_val - n_test\n",
        "print(n, n_val, n_test, n_train)"
      ],
      "metadata": {
        "colab": {
          "base_uri": "https://localhost:8080/"
        },
        "id": "VB38Uia9y8go",
        "outputId": "c9b8792f-553f-4b61-918d-b3b628bed070"
      },
      "execution_count": 16,
      "outputs": [
        {
          "output_type": "stream",
          "name": "stdout",
          "text": [
            "20640 4128 4128 12384\n"
          ]
        }
      ]
    },
    {
      "cell_type": "code",
      "source": [
        "idx = np.arange(n)\n",
        "np.random.seed(42)\n",
        "np.random.shuffle(idx)\n",
        "\n",
        "df_train = df.iloc[idx[:n_train]]\n",
        "df_val = df.iloc[idx[n_train:n_train+n_val]]\n",
        "df_test = df.iloc[idx[n_train+n_val:]]\n",
        "\n",
        "\n",
        "df_train = df_train.reset_index(drop=True)\n",
        "df_val = df_val.reset_index(drop=True)\n",
        "df_test = df_test.reset_index(drop=True)\n",
        "\n",
        "y_train = np.log1p(df_train.median_house_value.values)\n",
        "y_val = np.log1p(df_val.median_house_value.values)\n",
        "y_test = np.log1p(df_test.median_house_value.values)\n",
        "\n",
        "del df_train['median_house_value']\n",
        "del df_val['median_house_value']\n",
        "del df_test['median_house_value']\n",
        "\n"
      ],
      "metadata": {
        "id": "MT8s31eUy8jj"
      },
      "execution_count": 17,
      "outputs": []
    },
    {
      "cell_type": "code",
      "source": [
        "def train_linear_regression(X, y):\n",
        "    ones = np.ones(X.shape[0])\n",
        "    X = np.column_stack([ones, X])\n",
        "\n",
        "    XTX = X.T.dot(X)\n",
        "    XTX_inv = np.linalg.inv(XTX)\n",
        "    w = XTX_inv.dot(X.T).dot(y)\n",
        "    \n",
        "    return w[0], w[1:]\n",
        "\n",
        "\n",
        "def prepare_X_zero(df):\n",
        "    df_num = df\n",
        "    df_num = df_num.fillna(0)\n",
        "    X = df_num.values\n",
        "    return X\n",
        "\n",
        "def prepare_X_mean(df):\n",
        "    df_num = df\n",
        "    mean = df['total_bedrooms'].mean()\n",
        "    df_num = df_num.fillna(mean)\n",
        "    X = df_num.values\n",
        "    return X    \n",
        "def rmse(y, y_pred):\n",
        "    error = y_pred - y\n",
        "    mse = (error ** 2).mean()\n",
        "    return round(np.sqrt(mse), 2)\n",
        "\n",
        "def prepare_X_mean_val(df,mean):\n",
        "    df_num = df\n",
        "    df_num = df_num.fillna(mean)\n",
        "    X = df_num.values\n",
        "    return X\n"
      ],
      "metadata": {
        "id": "ntERBPV6y8mm"
      },
      "execution_count": 19,
      "outputs": []
    },
    {
      "cell_type": "code",
      "source": [
        "X_train = prepare_X_zero(df_train)\n",
        "w_0, w = train_linear_regression(X_train, y_train)\n",
        "X_val = prepare_X_zero(df_val)\n",
        "y_pred_zero = w_0 + X_val.dot(w)\n"
      ],
      "metadata": {
        "id": "JXvABD1xy8pA"
      },
      "execution_count": 14,
      "outputs": []
    },
    {
      "cell_type": "code",
      "source": [
        "rmse(y_val, y_pred_zero)"
      ],
      "metadata": {
        "colab": {
          "base_uri": "https://localhost:8080/"
        },
        "id": "li70U2yEy8rt",
        "outputId": "cba819f4-9a49-4fb1-a794-b50b2c1f5f9a"
      },
      "execution_count": 15,
      "outputs": [
        {
          "output_type": "execute_result",
          "data": {
            "text/plain": [
              "0.35"
            ]
          },
          "metadata": {},
          "execution_count": 15
        }
      ]
    },
    {
      "cell_type": "code",
      "source": [
        "X_train = prepare_X_mean(df_train)\n",
        "w_0, w = train_linear_regression(X_train, y_train)\n",
        "\n",
        "X_val = prepare_X_mean_val(df_val,df_train['total_bedrooms'].mean())\n",
        "y_pred_mean = w_0 + X_val.dot(w)\n"
      ],
      "metadata": {
        "id": "sD7qABAky8t7"
      },
      "execution_count": 23,
      "outputs": []
    },
    {
      "cell_type": "code",
      "source": [
        "rmse(y_val, y_pred_mean)"
      ],
      "metadata": {
        "colab": {
          "base_uri": "https://localhost:8080/"
        },
        "id": "fG_hYwEhy8w0",
        "outputId": "088eea51-76f9-428a-bd97-3157d87ff937"
      },
      "execution_count": 24,
      "outputs": [
        {
          "output_type": "execute_result",
          "data": {
            "text/plain": [
              "0.34"
            ]
          },
          "metadata": {},
          "execution_count": 24
        }
      ]
    },
    {
      "cell_type": "code",
      "source": [
        "#              Q4"
      ],
      "metadata": {
        "id": "qnQZiqRuy8zK"
      },
      "execution_count": 4,
      "outputs": []
    },
    {
      "cell_type": "code",
      "source": [
        "def train_linear_regression_reg(X, y, r=0.0):\n",
        "    ones = np.ones(X.shape[0])\n",
        "    X = np.column_stack([ones, X])\n",
        "\n",
        "    XTX = X.T.dot(X)\n",
        "    reg = r * np.eye(XTX.shape[0])\n",
        "    XTX = XTX + reg\n",
        "\n",
        "    XTX_inv = np.linalg.inv(XTX)\n",
        "    w = XTX_inv.dot(X.T).dot(y)\n",
        "    \n",
        "    return w[0], w[1:]"
      ],
      "metadata": {
        "id": "XTsJGXTty82C"
      },
      "execution_count": 25,
      "outputs": []
    },
    {
      "cell_type": "code",
      "source": [
        "X_train = prepare_X_zero(df_train)\n"
      ],
      "metadata": {
        "id": "6MbjMejRy84T"
      },
      "execution_count": 26,
      "outputs": []
    },
    {
      "cell_type": "code",
      "source": [
        "for r in [0, 0.000001, 0.0001, 0.001, 0.01, 0.1, 1, 5, 10]:\n",
        "    w_0, w = train_linear_regression_reg(X_train, y_train, r=r)\n",
        "    X_val = prepare_X_zero(df_val)\n",
        "    y_pred = w_0 + X_val.dot(w)\n",
        "    print('%2s, %.2f' % (r,rmse(y_val, y_pred)))\n"
      ],
      "metadata": {
        "colab": {
          "base_uri": "https://localhost:8080/"
        },
        "id": "snbw0xFOy87K",
        "outputId": "65aac412-5165-422b-f1a0-3de48bd92a9a"
      },
      "execution_count": 30,
      "outputs": [
        {
          "output_type": "stream",
          "name": "stdout",
          "text": [
            " 0, 0.35\n",
            "1e-06, 0.35\n",
            "0.0001, 0.35\n",
            "0.001, 0.35\n",
            "0.01, 0.35\n",
            "0.1, 0.35\n",
            " 1, 0.35\n",
            " 5, 0.36\n",
            "10, 0.36\n"
          ]
        }
      ]
    },
    {
      "cell_type": "code",
      "source": [
        "#           Q5"
      ],
      "metadata": {
        "id": "bbuNS6awy89x"
      },
      "execution_count": 4,
      "outputs": []
    },
    {
      "cell_type": "code",
      "source": [
        "def rmse_seed(df, seed):\n",
        "\n",
        "    n = len(df)\n",
        "    idx = np.arange(n)\n",
        "    np.random.seed(seed)\n",
        "    np.random.shuffle(idx)\n",
        "\n",
        "    df[\"idx\"] = idx\n",
        "    df = df.sort_values(by=\"idx\", ascending=True)\n",
        "    df = df.drop(columns=[\"idx\"])\n",
        "    df = df.reset_index(drop=True)\n",
        "\n",
        "    n_val = int(0.2 * n)\n",
        "    n_test = int(0.2 * n)\n",
        "    n_train = n - (n_val + n_test)\n",
        "    df_train = df.iloc[:n_train]\n",
        "    df_val = df.iloc[n_train : n_train + n_val]\n",
        "    df_test = df.iloc[n_train + n_val :]\n",
        "\n",
        "    y_train = np.log1p(df_train.median_house_value.values)\n",
        "    y_val = np.log1p(df_val.median_house_value.values)\n",
        "\n",
        "    del df_train['median_house_value']\n",
        "    del df_val['median_house_value']\n",
        "\n",
        "    x_train = prepare_X_zero(df_train)\n",
        "    w0, w = train_linear_regression(x_train, y_train)\n",
        "    \n",
        "    x_val = prepare_X_zero(df_val)\n",
        "    y_pred =  w0 + x_val.dot(w)\n",
        "    \n",
        "    rmse_value = rmse(y_pred, y_val)\n",
        "    return rmse_value\n"
      ],
      "metadata": {
        "id": "Slyv_02uy8_x"
      },
      "execution_count": 31,
      "outputs": []
    },
    {
      "cell_type": "code",
      "source": [
        "rmse_list = []\n",
        "seeds = [0, 1, 2, 3, 4, 5, 6, 7, 8, 9]\n",
        "\n",
        "for seed in seeds:\n",
        "    rmse_value = rmse_seed(df_copy, seed)\n",
        "    rmse_list.append(rmse_value)\n",
        "    print('Seed = %s, %f' % (seed, rmse_value))\n",
        "\n",
        "standard_deviation = round(np.std(rmse_list),3)\n",
        "print(standard_deviation) \n"
      ],
      "metadata": {
        "colab": {
          "base_uri": "https://localhost:8080/"
        },
        "id": "WvCDBj7Yy9CI",
        "outputId": "119d4681-49f7-4c86-e1da-711f6c8f2487"
      },
      "execution_count": 36,
      "outputs": [
        {
          "output_type": "stream",
          "name": "stdout",
          "text": [
            "Seed = 0, 0.340000\n",
            "Seed = 1, 0.340000\n",
            "Seed = 2, 0.340000\n",
            "Seed = 3, 0.350000\n",
            "Seed = 4, 0.350000\n",
            "Seed = 5, 0.340000\n",
            "Seed = 6, 0.340000\n",
            "Seed = 7, 0.350000\n",
            "Seed = 8, 0.340000\n",
            "Seed = 9, 0.340000\n",
            "0.005\n"
          ]
        }
      ]
    },
    {
      "cell_type": "code",
      "source": [
        "#          Q6"
      ],
      "metadata": {
        "id": "gQ9UEn8Siucf"
      },
      "execution_count": 4,
      "outputs": []
    },
    {
      "cell_type": "code",
      "source": [
        "def rmse_seed_Q_6(df, seed):\n",
        "\n",
        "    n = len(df)\n",
        "    idx = np.arange(n)\n",
        "    np.random.seed(seed)\n",
        "    np.random.shuffle(idx)\n",
        "\n",
        "    df[\"idx\"] = idx\n",
        "    df = df.sort_values(by=\"idx\", ascending=True)\n",
        "    df = df.drop(columns=[\"idx\"])\n",
        "    df = df.reset_index(drop=True)\n",
        "\n",
        "    n_test = int(0.2 * n)\n",
        "    n_train = n - n_test\n",
        "    df_train = df.iloc[:n_train]\n",
        "    df_test = df.iloc[n_train:]\n",
        "\n",
        "    y_train = np.log1p(df_train.median_house_value.values)\n",
        "    y_test = np.log1p(df_test.median_house_value.values)\n",
        "\n",
        "    del df_train['median_house_value']\n",
        "    del df_test['median_house_value']\n",
        "\n",
        "    x_train = prepare_X_zero(df_train)\n",
        "    w0, w = train_linear_regression_reg(x_train, y_train, 0.001)\n",
        "    \n",
        "    x_test = prepare_X_zero(df_test)\n",
        "    y_pred =  w0 + x_test.dot(w)\n",
        "    \n",
        "    rmse_value = rmse(y_pred, y_test)\n",
        "    return rmse_value"
      ],
      "metadata": {
        "id": "W4NFxwCR3wb2"
      },
      "execution_count": 37,
      "outputs": []
    },
    {
      "cell_type": "code",
      "source": [
        "rmse_seed_Q_6(df_copy, 9)"
      ],
      "metadata": {
        "colab": {
          "base_uri": "https://localhost:8080/"
        },
        "id": "iTjVZQR73wen",
        "outputId": "d54f46ef-9b00-4c55-a2cd-009d6cca0845"
      },
      "execution_count": 38,
      "outputs": [
        {
          "output_type": "execute_result",
          "data": {
            "text/plain": [
              "0.34"
            ]
          },
          "metadata": {},
          "execution_count": 38
        }
      ]
    },
    {
      "cell_type": "code",
      "source": [],
      "metadata": {
        "id": "2j61y0N03wg6"
      },
      "execution_count": null,
      "outputs": []
    },
    {
      "cell_type": "code",
      "source": [],
      "metadata": {
        "id": "kG4mw8GU3wjW"
      },
      "execution_count": null,
      "outputs": []
    },
    {
      "cell_type": "code",
      "source": [],
      "metadata": {
        "id": "_TGxL11w3wli"
      },
      "execution_count": null,
      "outputs": []
    },
    {
      "cell_type": "code",
      "source": [],
      "metadata": {
        "id": "RlAVTnBXiucf"
      },
      "execution_count": 4,
      "outputs": []
    }
  ]
}